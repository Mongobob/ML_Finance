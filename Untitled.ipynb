{
 "cells": [
  {
   "cell_type": "code",
   "execution_count": 8,
   "metadata": {},
   "outputs": [],
   "source": [
    "import pandas as pd\n",
    "import numpy as np\n",
    "import matplotlib.pyplot as plt\n",
    "from sklearn.pipeline import Pipeline, make_pipeline\n",
    "from sklearn.model_selection import GridSearchCV, cross_validate, cross_val_score, StratifiedKFold\n",
    "from sklearn.preprocessing import StandardScaler\n",
    "from sklearn.preprocessing import OneHotEncoder\n",
    "from sklearn.metrics import accuracy_score, confusion_matrix, classification_report, f1_score\n",
    "from sklearn.svm import SVC\n",
    "from sklearn.ensemble import RandomForestClassifier\n",
    "from sklearn.model_selection import train_test_split\n",
    "from sklearn.feature_selection import SelectFromModel\n",
    "from sklearn.decomposition import PCA\n",
    "import statsmodels.api as sm\n",
    "from statsmodels.imputation.mice import MICE, MICEData\n",
    "# import fancyimpute\n",
    "from sklearn.linear_model import LinearRegression, LogisticRegression\n",
    "from sklearn.impute import SimpleImputer\n",
    "# from imblearn.over_sampling import SMOTE\n",
    "import time\n",
    "from collections import Counter\n",
    "from sklearn.experimental import enable_iterative_imputer \n",
    "# now you can import normally from sklearn.impute\n",
    "from sklearn.impute import IterativeImputer"
   ]
  },
  {
   "cell_type": "code",
   "execution_count": 16,
   "metadata": {},
   "outputs": [],
   "source": [
    "df = pd.read_csv(\"/Users/Simon/Documents/UZH/Machine Learning/Clean Mapping/Clean Mapping.csv\", sep=';',\n",
    "                parse_dates=['adate', 'qdate', 'public_date', 'datadate'])"
   ]
  },
  {
   "cell_type": "code",
   "execution_count": 10,
   "metadata": {},
   "outputs": [],
   "source": [
    "df = df[df['splticrm'] != 'D']\n",
    "df = df[df['splticrm'] != 'CCC']"
   ]
  },
  {
   "cell_type": "code",
   "execution_count": 11,
   "metadata": {},
   "outputs": [],
   "source": [
    "#drop all rows where splticrm has NA values:\n",
    "df = df[df['splticrm'].notna()]"
   ]
  },
  {
   "cell_type": "code",
   "execution_count": 12,
   "metadata": {},
   "outputs": [
    {
     "name": "stdout",
     "output_type": "stream",
     "text": [
      "Index(['A', 'A+', 'AA-', 'AAA', 'BBB', 'BBB-', 'AA', 'A-', 'BBB+', 'AA+',\n",
      "       'CCC+', 'B-', 'B+', 'BB-', 'BB+', 'BB', 'B'],\n",
      "      dtype='object')\n"
     ]
    }
   ],
   "source": [
    "y = pd.factorize(df['splticrm'])[0]\n",
    "print(pd.factorize(df['splticrm'])[1])"
   ]
  },
  {
   "cell_type": "code",
   "execution_count": 13,
   "metadata": {},
   "outputs": [
    {
     "name": "stderr",
     "output_type": "stream",
     "text": [
      "/Users/Simon/opt/anaconda3/lib/python3.7/site-packages/sklearn/impute/_iterative.py:603: ConvergenceWarning: [IterativeImputer] Early stopping criterion not reached.\n",
      "  \" reached.\", ConvergenceWarning)\n"
     ]
    }
   ],
   "source": [
    "num_cols = ['aftret_invcapx', 'at_turn', 'bm', 'cash_conversion', 'cash_debt', 'cash_lt', 'cash_ratio', 'cfm', \n",
    "          'curr_debt', 'curr_ratio', 'de_ratio', 'debt_assets', 'debt_ebitda', 'dpr', 'lt_debt', 'npm', \n",
    "          'ocf_lct', 'roa', 'roe', 'short_debt']\n",
    "\n",
    "# Copy df to df_mice_imputed\n",
    "df_mice_imputed = df[num_cols].copy(deep=True)\n",
    "\n",
    "# Initialize IterativeImputer\n",
    "mice_imputer = IterativeImputer()\n",
    "\n",
    "# Impute using fit_tranform on diabetes\n",
    "df_mice_imputed.iloc[:, :] = mice_imputer.fit_transform(df[num_cols])"
   ]
  },
  {
   "cell_type": "code",
   "execution_count": 14,
   "metadata": {},
   "outputs": [
    {
     "data": {
      "text/html": [
       "<div>\n",
       "<style scoped>\n",
       "    .dataframe tbody tr th:only-of-type {\n",
       "        vertical-align: middle;\n",
       "    }\n",
       "\n",
       "    .dataframe tbody tr th {\n",
       "        vertical-align: top;\n",
       "    }\n",
       "\n",
       "    .dataframe thead th {\n",
       "        text-align: right;\n",
       "    }\n",
       "</style>\n",
       "<table border=\"1\" class=\"dataframe\">\n",
       "  <thead>\n",
       "    <tr style=\"text-align: right;\">\n",
       "      <th></th>\n",
       "      <th>aftret_invcapx</th>\n",
       "      <th>at_turn</th>\n",
       "      <th>bm</th>\n",
       "      <th>cash_conversion</th>\n",
       "      <th>cash_debt</th>\n",
       "      <th>cash_lt</th>\n",
       "      <th>cash_ratio</th>\n",
       "      <th>cfm</th>\n",
       "      <th>curr_debt</th>\n",
       "      <th>curr_ratio</th>\n",
       "      <th>de_ratio</th>\n",
       "      <th>debt_assets</th>\n",
       "      <th>debt_ebitda</th>\n",
       "      <th>dpr</th>\n",
       "      <th>lt_debt</th>\n",
       "      <th>npm</th>\n",
       "      <th>ocf_lct</th>\n",
       "      <th>roa</th>\n",
       "      <th>roe</th>\n",
       "      <th>short_debt</th>\n",
       "    </tr>\n",
       "  </thead>\n",
       "  <tbody>\n",
       "    <tr>\n",
       "      <td>0</td>\n",
       "      <td>0.183</td>\n",
       "      <td>0.466</td>\n",
       "      <td>0.252</td>\n",
       "      <td>30.440</td>\n",
       "      <td>0.37</td>\n",
       "      <td>0.675</td>\n",
       "      <td>1.875</td>\n",
       "      <td>0.337</td>\n",
       "      <td>0.36</td>\n",
       "      <td>2.409</td>\n",
       "      <td>0.949</td>\n",
       "      <td>0.485</td>\n",
       "      <td>1.153</td>\n",
       "      <td>0.129</td>\n",
       "      <td>0.486</td>\n",
       "      <td>0.250</td>\n",
       "      <td>0.994</td>\n",
       "      <td>0.232</td>\n",
       "      <td>0.232</td>\n",
       "      <td>0.079</td>\n",
       "    </tr>\n",
       "    <tr>\n",
       "      <td>1</td>\n",
       "      <td>0.183</td>\n",
       "      <td>0.466</td>\n",
       "      <td>0.252</td>\n",
       "      <td>30.440</td>\n",
       "      <td>0.37</td>\n",
       "      <td>0.675</td>\n",
       "      <td>1.875</td>\n",
       "      <td>0.337</td>\n",
       "      <td>0.36</td>\n",
       "      <td>2.409</td>\n",
       "      <td>0.949</td>\n",
       "      <td>0.485</td>\n",
       "      <td>1.153</td>\n",
       "      <td>0.129</td>\n",
       "      <td>0.486</td>\n",
       "      <td>0.250</td>\n",
       "      <td>0.994</td>\n",
       "      <td>0.232</td>\n",
       "      <td>0.232</td>\n",
       "      <td>0.079</td>\n",
       "    </tr>\n",
       "    <tr>\n",
       "      <td>2</td>\n",
       "      <td>0.183</td>\n",
       "      <td>0.466</td>\n",
       "      <td>0.252</td>\n",
       "      <td>30.440</td>\n",
       "      <td>0.37</td>\n",
       "      <td>0.675</td>\n",
       "      <td>1.875</td>\n",
       "      <td>0.337</td>\n",
       "      <td>0.36</td>\n",
       "      <td>2.409</td>\n",
       "      <td>0.949</td>\n",
       "      <td>0.485</td>\n",
       "      <td>1.153</td>\n",
       "      <td>0.129</td>\n",
       "      <td>0.486</td>\n",
       "      <td>0.250</td>\n",
       "      <td>0.994</td>\n",
       "      <td>0.232</td>\n",
       "      <td>0.232</td>\n",
       "      <td>0.079</td>\n",
       "    </tr>\n",
       "    <tr>\n",
       "      <td>3</td>\n",
       "      <td>0.170</td>\n",
       "      <td>0.453</td>\n",
       "      <td>0.233</td>\n",
       "      <td>32.589</td>\n",
       "      <td>0.37</td>\n",
       "      <td>0.679</td>\n",
       "      <td>1.739</td>\n",
       "      <td>0.322</td>\n",
       "      <td>0.39</td>\n",
       "      <td>2.245</td>\n",
       "      <td>0.982</td>\n",
       "      <td>0.493</td>\n",
       "      <td>1.224</td>\n",
       "      <td>0.177</td>\n",
       "      <td>0.458</td>\n",
       "      <td>0.234</td>\n",
       "      <td>0.796</td>\n",
       "      <td>0.227</td>\n",
       "      <td>0.218</td>\n",
       "      <td>0.130</td>\n",
       "    </tr>\n",
       "    <tr>\n",
       "      <td>4</td>\n",
       "      <td>0.170</td>\n",
       "      <td>0.453</td>\n",
       "      <td>0.233</td>\n",
       "      <td>32.589</td>\n",
       "      <td>0.37</td>\n",
       "      <td>0.679</td>\n",
       "      <td>1.739</td>\n",
       "      <td>0.322</td>\n",
       "      <td>0.39</td>\n",
       "      <td>2.245</td>\n",
       "      <td>0.982</td>\n",
       "      <td>0.493</td>\n",
       "      <td>1.224</td>\n",
       "      <td>0.177</td>\n",
       "      <td>0.458</td>\n",
       "      <td>0.234</td>\n",
       "      <td>0.796</td>\n",
       "      <td>0.227</td>\n",
       "      <td>0.218</td>\n",
       "      <td>0.130</td>\n",
       "    </tr>\n",
       "  </tbody>\n",
       "</table>\n",
       "</div>"
      ],
      "text/plain": [
       "   aftret_invcapx  at_turn     bm  cash_conversion  cash_debt  cash_lt  \\\n",
       "0           0.183    0.466  0.252           30.440       0.37    0.675   \n",
       "1           0.183    0.466  0.252           30.440       0.37    0.675   \n",
       "2           0.183    0.466  0.252           30.440       0.37    0.675   \n",
       "3           0.170    0.453  0.233           32.589       0.37    0.679   \n",
       "4           0.170    0.453  0.233           32.589       0.37    0.679   \n",
       "\n",
       "   cash_ratio    cfm  curr_debt  curr_ratio  de_ratio  debt_assets  \\\n",
       "0       1.875  0.337       0.36       2.409     0.949        0.485   \n",
       "1       1.875  0.337       0.36       2.409     0.949        0.485   \n",
       "2       1.875  0.337       0.36       2.409     0.949        0.485   \n",
       "3       1.739  0.322       0.39       2.245     0.982        0.493   \n",
       "4       1.739  0.322       0.39       2.245     0.982        0.493   \n",
       "\n",
       "   debt_ebitda    dpr  lt_debt    npm  ocf_lct    roa    roe  short_debt  \n",
       "0        1.153  0.129    0.486  0.250    0.994  0.232  0.232       0.079  \n",
       "1        1.153  0.129    0.486  0.250    0.994  0.232  0.232       0.079  \n",
       "2        1.153  0.129    0.486  0.250    0.994  0.232  0.232       0.079  \n",
       "3        1.224  0.177    0.458  0.234    0.796  0.227  0.218       0.130  \n",
       "4        1.224  0.177    0.458  0.234    0.796  0.227  0.218       0.130  "
      ]
     },
     "execution_count": 14,
     "metadata": {},
     "output_type": "execute_result"
    }
   ],
   "source": [
    "df_mice_imputed.isnull().sum()\n",
    "df_mice_imputed.head(5)"
   ]
  },
  {
   "cell_type": "code",
   "execution_count": 17,
   "metadata": {},
   "outputs": [
    {
     "ename": "ValueError",
     "evalue": "variable to be imputed has no observed values",
     "output_type": "error",
     "traceback": [
      "\u001b[0;31m---------------------------------------------------------------------------\u001b[0m",
      "\u001b[0;31mValueError\u001b[0m                                Traceback (most recent call last)",
      "\u001b[0;32m<ipython-input-17-c36291495a73>\u001b[0m in \u001b[0;36m<module>\u001b[0;34m\u001b[0m\n\u001b[1;32m      1\u001b[0m \u001b[0mdf_imp\u001b[0m \u001b[0;34m=\u001b[0m \u001b[0mdf\u001b[0m\u001b[0;34m.\u001b[0m\u001b[0mdrop\u001b[0m\u001b[0;34m(\u001b[0m\u001b[0;34m[\u001b[0m\u001b[0;34m'permno'\u001b[0m\u001b[0;34m,\u001b[0m \u001b[0;34m'CUSIP'\u001b[0m\u001b[0;34m,\u001b[0m \u001b[0;34m'NCUSIP'\u001b[0m\u001b[0;34m,\u001b[0m \u001b[0;34m'adate'\u001b[0m\u001b[0;34m,\u001b[0m \u001b[0;34m'qdate'\u001b[0m\u001b[0;34m,\u001b[0m \u001b[0;34m'datadate'\u001b[0m\u001b[0;34m,\u001b[0m \u001b[0;34m'conm'\u001b[0m\u001b[0;34m,\u001b[0m \u001b[0;34m'tic'\u001b[0m\u001b[0;34m,\u001b[0m \u001b[0;34m'cusip'\u001b[0m\u001b[0;34m,\u001b[0m \u001b[0;34m'public_date'\u001b[0m\u001b[0;34m]\u001b[0m\u001b[0;34m,\u001b[0m \u001b[0maxis\u001b[0m\u001b[0;34m=\u001b[0m\u001b[0;36m1\u001b[0m\u001b[0;34m)\u001b[0m\u001b[0;34m\u001b[0m\u001b[0;34m\u001b[0m\u001b[0m\n\u001b[0;32m----> 2\u001b[0;31m \u001b[0mimp\u001b[0m \u001b[0;34m=\u001b[0m \u001b[0mMICEData\u001b[0m\u001b[0;34m(\u001b[0m\u001b[0mdata\u001b[0m \u001b[0;34m=\u001b[0m \u001b[0mdf_imp\u001b[0m\u001b[0;34m,\u001b[0m \u001b[0mk_pmm\u001b[0m\u001b[0;34m=\u001b[0m\u001b[0;36m5\u001b[0m\u001b[0;34m)\u001b[0m\u001b[0;34m\u001b[0m\u001b[0;34m\u001b[0m\u001b[0m\n\u001b[0m\u001b[1;32m      3\u001b[0m \u001b[0mfml\u001b[0m \u001b[0;34m=\u001b[0m \u001b[0;34m'splticrm ~ CAPEI + bm + evm + pe_op_basic + pe_op_dil + pe_exi + pe_inc + ps + pcf + dpr + npm + opmbd + opmad + gpm + ptpm + cfm + roa + roe + roce + efftax + aftret_eq + aftret_invcapx + aftret_equity + pretret_noa + pretret_earnat + GProf + equity_invcap + debt_invcap + totdebt_invcap + capital_ratio + int_debt + int_totdebt + cash_lt + invt_act + rect_act + debt_at + debt_ebitda + short_debt + curr_debt + lt_debt + profit_lct + ocf_lct + cash_debt + fcf_ocf + lt_ppent + dltt_be + debt_assets + debt_capital + de_ratio + intcov + intcov_ratio + cash_ratio + quick_ratio + curr_ratio + cash_conversion + inv_turn + at_turn + rect_turn + pay_turn + sale_invcap + sale_equity + sale_nwc + accrual + ptb + PEG_trailing + DIVYIELD + PEG_1yrforward + PEG_ltgforward'\u001b[0m\u001b[0;34m\u001b[0m\u001b[0;34m\u001b[0m\u001b[0m\n\u001b[1;32m      4\u001b[0m \u001b[0mmice\u001b[0m \u001b[0;34m=\u001b[0m \u001b[0mMICE\u001b[0m\u001b[0;34m(\u001b[0m\u001b[0mmodel_formula\u001b[0m\u001b[0;34m=\u001b[0m\u001b[0mfml\u001b[0m\u001b[0;34m,\u001b[0m \u001b[0mmodel_class\u001b[0m\u001b[0;34m=\u001b[0m\u001b[0msm\u001b[0m\u001b[0;34m.\u001b[0m\u001b[0mOLS\u001b[0m\u001b[0;34m,\u001b[0m \u001b[0mdata\u001b[0m\u001b[0;34m=\u001b[0m\u001b[0mimp\u001b[0m\u001b[0;34m)\u001b[0m\u001b[0;34m\u001b[0m\u001b[0;34m\u001b[0m\u001b[0m\n\u001b[1;32m      5\u001b[0m \u001b[0mimpu\u001b[0m \u001b[0;34m=\u001b[0m \u001b[0mmice\u001b[0m\u001b[0;34m.\u001b[0m\u001b[0mfit\u001b[0m\u001b[0;34m(\u001b[0m\u001b[0;36m5\u001b[0m\u001b[0;34m,\u001b[0m\u001b[0;36m5\u001b[0m\u001b[0;34m)\u001b[0m\u001b[0;34m\u001b[0m\u001b[0;34m\u001b[0m\u001b[0m\n",
      "\u001b[0;32m~/opt/anaconda3/lib/python3.7/site-packages/statsmodels/imputation/mice.py\u001b[0m in \u001b[0;36m__init__\u001b[0;34m(self, data, perturbation_method, k_pmm, history_callback)\u001b[0m\n\u001b[1;32m    221\u001b[0m         \u001b[0mself\u001b[0m\u001b[0;34m.\u001b[0m\u001b[0mix_miss\u001b[0m \u001b[0;34m=\u001b[0m \u001b[0;34m{\u001b[0m\u001b[0;34m}\u001b[0m\u001b[0;34m\u001b[0m\u001b[0;34m\u001b[0m\u001b[0m\n\u001b[1;32m    222\u001b[0m         \u001b[0;32mfor\u001b[0m \u001b[0mcol\u001b[0m \u001b[0;32min\u001b[0m \u001b[0mself\u001b[0m\u001b[0;34m.\u001b[0m\u001b[0mdata\u001b[0m\u001b[0;34m.\u001b[0m\u001b[0mcolumns\u001b[0m\u001b[0;34m:\u001b[0m\u001b[0;34m\u001b[0m\u001b[0;34m\u001b[0m\u001b[0m\n\u001b[0;32m--> 223\u001b[0;31m             \u001b[0mix_obs\u001b[0m\u001b[0;34m,\u001b[0m \u001b[0mix_miss\u001b[0m \u001b[0;34m=\u001b[0m \u001b[0mself\u001b[0m\u001b[0;34m.\u001b[0m\u001b[0m_split_indices\u001b[0m\u001b[0;34m(\u001b[0m\u001b[0mself\u001b[0m\u001b[0;34m.\u001b[0m\u001b[0mdata\u001b[0m\u001b[0;34m[\u001b[0m\u001b[0mcol\u001b[0m\u001b[0;34m]\u001b[0m\u001b[0;34m)\u001b[0m\u001b[0;34m\u001b[0m\u001b[0;34m\u001b[0m\u001b[0m\n\u001b[0m\u001b[1;32m    224\u001b[0m             \u001b[0mself\u001b[0m\u001b[0;34m.\u001b[0m\u001b[0mix_obs\u001b[0m\u001b[0;34m[\u001b[0m\u001b[0mcol\u001b[0m\u001b[0;34m]\u001b[0m \u001b[0;34m=\u001b[0m \u001b[0mix_obs\u001b[0m\u001b[0;34m\u001b[0m\u001b[0;34m\u001b[0m\u001b[0m\n\u001b[1;32m    225\u001b[0m             \u001b[0mself\u001b[0m\u001b[0;34m.\u001b[0m\u001b[0mix_miss\u001b[0m\u001b[0;34m[\u001b[0m\u001b[0mcol\u001b[0m\u001b[0;34m]\u001b[0m \u001b[0;34m=\u001b[0m \u001b[0mix_miss\u001b[0m\u001b[0;34m\u001b[0m\u001b[0;34m\u001b[0m\u001b[0m\n",
      "\u001b[0;32m~/opt/anaconda3/lib/python3.7/site-packages/statsmodels/imputation/mice.py\u001b[0m in \u001b[0;36m_split_indices\u001b[0;34m(self, vec)\u001b[0m\n\u001b[1;32m    302\u001b[0m         \u001b[0mix_miss\u001b[0m \u001b[0;34m=\u001b[0m \u001b[0mnp\u001b[0m\u001b[0;34m.\u001b[0m\u001b[0mflatnonzero\u001b[0m\u001b[0;34m(\u001b[0m\u001b[0mnull\u001b[0m\u001b[0;34m)\u001b[0m\u001b[0;34m\u001b[0m\u001b[0;34m\u001b[0m\u001b[0m\n\u001b[1;32m    303\u001b[0m         \u001b[0;32mif\u001b[0m \u001b[0mlen\u001b[0m\u001b[0;34m(\u001b[0m\u001b[0mix_obs\u001b[0m\u001b[0;34m)\u001b[0m \u001b[0;34m==\u001b[0m \u001b[0;36m0\u001b[0m\u001b[0;34m:\u001b[0m\u001b[0;34m\u001b[0m\u001b[0;34m\u001b[0m\u001b[0m\n\u001b[0;32m--> 304\u001b[0;31m             \u001b[0;32mraise\u001b[0m \u001b[0mValueError\u001b[0m\u001b[0;34m(\u001b[0m\u001b[0;34m\"variable to be imputed has no observed values\"\u001b[0m\u001b[0;34m)\u001b[0m\u001b[0;34m\u001b[0m\u001b[0;34m\u001b[0m\u001b[0m\n\u001b[0m\u001b[1;32m    305\u001b[0m         \u001b[0;32mreturn\u001b[0m \u001b[0mix_obs\u001b[0m\u001b[0;34m,\u001b[0m \u001b[0mix_miss\u001b[0m\u001b[0;34m\u001b[0m\u001b[0;34m\u001b[0m\u001b[0m\n\u001b[1;32m    306\u001b[0m \u001b[0;34m\u001b[0m\u001b[0m\n",
      "\u001b[0;31mValueError\u001b[0m: variable to be imputed has no observed values"
     ]
    }
   ],
   "source": [
    "df_imp = df.drop(['permno', 'CUSIP', 'NCUSIP', 'adate', 'qdate', 'datadate', 'conm', 'tic', 'cusip', 'public_date'], axis=1)\n",
    "imp = MICEData(data = df_imp, k_pmm=5)\n",
    "fml = 'splticrm ~ CAPEI + bm + evm + pe_op_basic + pe_op_dil + pe_exi + pe_inc + ps + pcf + dpr + npm + opmbd + opmad + gpm + ptpm + cfm + roa + roe + roce + efftax + aftret_eq + aftret_invcapx + aftret_equity + pretret_noa + pretret_earnat + GProf + equity_invcap + debt_invcap + totdebt_invcap + capital_ratio + int_debt + int_totdebt + cash_lt + invt_act + rect_act + debt_at + debt_ebitda + short_debt + curr_debt + lt_debt + profit_lct + ocf_lct + cash_debt + fcf_ocf + lt_ppent + dltt_be + debt_assets + debt_capital + de_ratio + intcov + intcov_ratio + cash_ratio + quick_ratio + curr_ratio + cash_conversion + inv_turn + at_turn + rect_turn + pay_turn + sale_invcap + sale_equity + sale_nwc + accrual + ptb + PEG_trailing + DIVYIELD + PEG_1yrforward + PEG_ltgforward'\n",
    "mice = MICE(model_formula=fml, model_class=sm.OLS, data=imp)\n",
    "impu = mice.fit(5,5)\n",
    "results = mice.combine(impu)\n",
    "imputed_data = impu.transform(df_imp.values)\n",
    "df_imp = pd.DataFrame(imputed_data, columns=df_imp.columns)\n",
    "\n",
    "print(impu.summary())\n",
    "print(df_imp.isnull().sum().sum())\n"
   ]
  },
  {
   "cell_type": "code",
   "execution_count": 19,
   "metadata": {},
   "outputs": [
    {
     "ename": "TypeError",
     "evalue": "__init__() missing 3 required positional arguments: 'model_formula', 'model_class', and 'data'",
     "output_type": "error",
     "traceback": [
      "\u001b[0;31m---------------------------------------------------------------------------\u001b[0m",
      "\u001b[0;31mTypeError\u001b[0m                                 Traceback (most recent call last)",
      "\u001b[0;32m<ipython-input-19-49fc70db639d>\u001b[0m in \u001b[0;36m<module>\u001b[0;34m\u001b[0m\n\u001b[1;32m      2\u001b[0m \u001b[0;31m#df_numeric = df[['Age']].select_dtypes(include=[np.float]).as_matrix()\u001b[0m\u001b[0;34m\u001b[0m\u001b[0;34m\u001b[0m\u001b[0;34m\u001b[0m\u001b[0m\n\u001b[1;32m      3\u001b[0m \u001b[0mfml\u001b[0m \u001b[0;34m=\u001b[0m \u001b[0;34m'splticrm ~ CAPEI + bm + evm + pe_op_basic + pe_op_dil + pe_exi + pe_inc + ps + pcf + dpr + npm + opmbd + opmad + gpm + ptpm + cfm + roa + roe + roce + efftax + aftret_eq + aftret_invcapx + aftret_equity + pretret_noa + pretret_earnat + GProf + equity_invcap + debt_invcap + totdebt_invcap + capital_ratio + int_debt + int_totdebt + cash_lt + invt_act + rect_act + debt_at + debt_ebitda + short_debt + curr_debt + lt_debt + profit_lct + ocf_lct + cash_debt + fcf_ocf + lt_ppent + dltt_be + debt_assets + debt_capital + de_ratio + intcov + intcov_ratio + cash_ratio + quick_ratio + curr_ratio + cash_conversion + inv_turn + at_turn + rect_turn + pay_turn + sale_invcap + sale_equity + sale_nwc + accrual + ptb + PEG_trailing + DIVYIELD + PEG_1yrforward + PEG_ltgforward'\u001b[0m\u001b[0;34m\u001b[0m\u001b[0;34m\u001b[0m\u001b[0m\n\u001b[0;32m----> 4\u001b[0;31m \u001b[0mdf_complete\u001b[0m\u001b[0;34m=\u001b[0m\u001b[0mMICE\u001b[0m\u001b[0;34m(\u001b[0m\u001b[0;34m)\u001b[0m\u001b[0;34m.\u001b[0m\u001b[0mcomplete\u001b[0m\u001b[0;34m(\u001b[0m\u001b[0mdf_imput\u001b[0m\u001b[0;34m)\u001b[0m\u001b[0;34m\u001b[0m\u001b[0;34m\u001b[0m\u001b[0m\n\u001b[0m",
      "\u001b[0;31mTypeError\u001b[0m: __init__() missing 3 required positional arguments: 'model_formula', 'model_class', and 'data'"
     ]
    }
   ],
   "source": [
    "df_imput = df.drop(['tic', 'public_date', 'permno', 'CUSIP', 'NCUSIP', 'adate', 'qdate', 'datadate', 'conm', 'tic', 'cusip', 'splticrm'], axis=1)\n",
    "#df_numeric = df[['Age']].select_dtypes(include=[np.float]).as_matrix()\n",
    "fml = 'splticrm ~ CAPEI + bm + evm + pe_op_basic + pe_op_dil + pe_exi + pe_inc + ps + pcf + dpr + npm + opmbd + opmad + gpm + ptpm + cfm + roa + roe + roce + efftax + aftret_eq + aftret_invcapx + aftret_equity + pretret_noa + pretret_earnat + GProf + equity_invcap + debt_invcap + totdebt_invcap + capital_ratio + int_debt + int_totdebt + cash_lt + invt_act + rect_act + debt_at + debt_ebitda + short_debt + curr_debt + lt_debt + profit_lct + ocf_lct + cash_debt + fcf_ocf + lt_ppent + dltt_be + debt_assets + debt_capital + de_ratio + intcov + intcov_ratio + cash_ratio + quick_ratio + curr_ratio + cash_conversion + inv_turn + at_turn + rect_turn + pay_turn + sale_invcap + sale_equity + sale_nwc + accrual + ptb + PEG_trailing + DIVYIELD + PEG_1yrforward + PEG_ltgforward'\n",
    "df_complete=MICE().complete(df_imput)"
   ]
  },
  {
   "cell_type": "code",
   "execution_count": null,
   "metadata": {},
   "outputs": [],
   "source": []
  }
 ],
 "metadata": {
  "kernelspec": {
   "display_name": "Python 3",
   "language": "python",
   "name": "python3"
  },
  "language_info": {
   "codemirror_mode": {
    "name": "ipython",
    "version": 3
   },
   "file_extension": ".py",
   "mimetype": "text/x-python",
   "name": "python",
   "nbconvert_exporter": "python",
   "pygments_lexer": "ipython3",
   "version": "3.7.4"
  }
 },
 "nbformat": 4,
 "nbformat_minor": 2
}
