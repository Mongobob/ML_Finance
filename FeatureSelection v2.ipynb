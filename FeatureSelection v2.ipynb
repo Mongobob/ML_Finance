{
 "cells": [
  {
   "cell_type": "code",
   "execution_count": 126,
   "metadata": {},
   "outputs": [],
   "source": [
    "import pandas as pd\n",
    "import numpy as np\n",
    "import matplotlib.pyplot as plt\n",
    "from sklearn.pipeline import Pipeline, make_pipeline\n",
    "from sklearn.model_selection import GridSearchCV, cross_validate, cross_val_score, StratifiedKFold\n",
    "from sklearn.preprocessing import StandardScaler\n",
    "from sklearn.preprocessing import OneHotEncoder\n",
    "from sklearn.metrics import accuracy_score, confusion_matrix, classification_report, f1_score\n",
    "from sklearn.svm import SVC\n",
    "from sklearn.ensemble import RandomForestClassifier\n",
    "from sklearn.model_selection import train_test_split\n",
    "from sklearn.feature_selection import SelectFromModel\n",
    "from sklearn.decomposition import PCA\n",
    "import statsmodels.api as sm\n",
    "from statsmodels.imputation.mice import MICE, MICEData\n",
    "# import fancyimpute\n",
    "from sklearn.linear_model import LinearRegression, LogisticRegression\n",
    "from sklearn.impute import SimpleImputer\n",
    "# from imblearn.over_sampling import SMOTE\n",
    "import time\n",
    "from collections import Counter"
   ]
  },
  {
   "cell_type": "code",
   "execution_count": 127,
   "metadata": {},
   "outputs": [],
   "source": [
    "df = pd.read_csv(\"/Users/Simon/Documents/UZH/Machine Learning/Clean Mapping/Clean Mapping.csv\", sep=';',\n",
    "                parse_dates=['adate', 'qdate', 'public_date', 'datadate'])"
   ]
  },
  {
   "cell_type": "code",
   "execution_count": 128,
   "metadata": {},
   "outputs": [
    {
     "data": {
      "text/plain": [
       "(34727, 89)"
      ]
     },
     "execution_count": 128,
     "metadata": {},
     "output_type": "execute_result"
    }
   ],
   "source": [
    "df.shape"
   ]
  },
  {
   "cell_type": "code",
   "execution_count": 129,
   "metadata": {},
   "outputs": [],
   "source": [
    "df = df[df['splticrm'] != 'D']\n",
    "df = df[df['splticrm'] != 'CCC']"
   ]
  },
  {
   "cell_type": "code",
   "execution_count": 130,
   "metadata": {},
   "outputs": [],
   "source": [
    "#drop all rows where splticrm has NA values:\n",
    "df = df[df['splticrm'].notna()]"
   ]
  },
  {
   "cell_type": "code",
   "execution_count": 131,
   "metadata": {},
   "outputs": [
    {
     "name": "stdout",
     "output_type": "stream",
     "text": [
      "[3656 1943  990  296 5455 3209  489 3882 4682  199   50  143  382 1069\n",
      " 1648 1096  220]\n",
      "Index(['A', 'A+', 'AA-', 'AAA', 'BBB', 'BBB-', 'AA', 'A-', 'BBB+', 'AA+',\n",
      "       'CCC+', 'B-', 'B+', 'BB-', 'BB+', 'BB', 'B'],\n",
      "      dtype='object')\n"
     ]
    }
   ],
   "source": [
    "Y = pd.factorize(df[\"splticrm\"])[0]\n",
    "print(np.bincount(Y))\n",
    "print(pd.factorize(df[\"splticrm\"])[1])"
   ]
  },
  {
   "cell_type": "code",
   "execution_count": 132,
   "metadata": {},
   "outputs": [
    {
     "data": {
      "text/html": [
       "<div>\n",
       "<style scoped>\n",
       "    .dataframe tbody tr th:only-of-type {\n",
       "        vertical-align: middle;\n",
       "    }\n",
       "\n",
       "    .dataframe tbody tr th {\n",
       "        vertical-align: top;\n",
       "    }\n",
       "\n",
       "    .dataframe thead th {\n",
       "        text-align: right;\n",
       "    }\n",
       "</style>\n",
       "<table border=\"1\" class=\"dataframe\">\n",
       "  <thead>\n",
       "    <tr style=\"text-align: right;\">\n",
       "      <th></th>\n",
       "      <th>CAPEI</th>\n",
       "      <th>bm</th>\n",
       "      <th>evm</th>\n",
       "      <th>pe_op_basic</th>\n",
       "      <th>pe_op_dil</th>\n",
       "      <th>pe_exi</th>\n",
       "      <th>pe_inc</th>\n",
       "      <th>ps</th>\n",
       "      <th>pcf</th>\n",
       "      <th>dpr</th>\n",
       "      <th>...</th>\n",
       "      <th>rd_sale</th>\n",
       "      <th>adv_sale</th>\n",
       "      <th>staff_sale</th>\n",
       "      <th>accrual</th>\n",
       "      <th>ptb</th>\n",
       "      <th>PEG_trailing</th>\n",
       "      <th>DIVYIELD</th>\n",
       "      <th>PEG_1yrforward</th>\n",
       "      <th>PEG_ltgforward</th>\n",
       "      <th>Unnamed: 88</th>\n",
       "    </tr>\n",
       "  </thead>\n",
       "  <tbody>\n",
       "    <tr>\n",
       "      <td>0</td>\n",
       "      <td>26.386</td>\n",
       "      <td>0.252</td>\n",
       "      <td>10.110</td>\n",
       "      <td>19.217</td>\n",
       "      <td>19.378</td>\n",
       "      <td>20.052</td>\n",
       "      <td>20.052</td>\n",
       "      <td>4.976</td>\n",
       "      <td>13.353</td>\n",
       "      <td>0.129</td>\n",
       "      <td>...</td>\n",
       "      <td>0.120</td>\n",
       "      <td>0.003</td>\n",
       "      <td>0.0</td>\n",
       "      <td>0.058</td>\n",
       "      <td>4.145</td>\n",
       "      <td>1.045</td>\n",
       "      <td>0.00867</td>\n",
       "      <td>2.221</td>\n",
       "      <td>1.554</td>\n",
       "      <td>NaN</td>\n",
       "    </tr>\n",
       "    <tr>\n",
       "      <td>1</td>\n",
       "      <td>28.226</td>\n",
       "      <td>0.252</td>\n",
       "      <td>10.110</td>\n",
       "      <td>20.542</td>\n",
       "      <td>20.714</td>\n",
       "      <td>21.435</td>\n",
       "      <td>21.435</td>\n",
       "      <td>5.323</td>\n",
       "      <td>14.285</td>\n",
       "      <td>0.129</td>\n",
       "      <td>...</td>\n",
       "      <td>0.120</td>\n",
       "      <td>0.003</td>\n",
       "      <td>0.0</td>\n",
       "      <td>0.058</td>\n",
       "      <td>4.434</td>\n",
       "      <td>1.117</td>\n",
       "      <td>0.00811</td>\n",
       "      <td>2.058</td>\n",
       "      <td>1.520</td>\n",
       "      <td>NaN</td>\n",
       "    </tr>\n",
       "    <tr>\n",
       "      <td>2</td>\n",
       "      <td>29.464</td>\n",
       "      <td>0.252</td>\n",
       "      <td>10.110</td>\n",
       "      <td>21.425</td>\n",
       "      <td>21.605</td>\n",
       "      <td>22.357</td>\n",
       "      <td>22.357</td>\n",
       "      <td>5.556</td>\n",
       "      <td>14.911</td>\n",
       "      <td>0.129</td>\n",
       "      <td>...</td>\n",
       "      <td>0.120</td>\n",
       "      <td>0.003</td>\n",
       "      <td>0.0</td>\n",
       "      <td>0.058</td>\n",
       "      <td>4.628</td>\n",
       "      <td>1.165</td>\n",
       "      <td>0.00778</td>\n",
       "      <td>2.146</td>\n",
       "      <td>1.586</td>\n",
       "      <td>NaN</td>\n",
       "    </tr>\n",
       "    <tr>\n",
       "      <td>3</td>\n",
       "      <td>28.783</td>\n",
       "      <td>0.233</td>\n",
       "      <td>10.983</td>\n",
       "      <td>21.378</td>\n",
       "      <td>21.556</td>\n",
       "      <td>23.096</td>\n",
       "      <td>23.096</td>\n",
       "      <td>5.381</td>\n",
       "      <td>15.909</td>\n",
       "      <td>0.177</td>\n",
       "      <td>...</td>\n",
       "      <td>0.121</td>\n",
       "      <td>0.003</td>\n",
       "      <td>0.0</td>\n",
       "      <td>0.049</td>\n",
       "      <td>4.515</td>\n",
       "      <td>1.545</td>\n",
       "      <td>0.00773</td>\n",
       "      <td>1.848</td>\n",
       "      <td>1.642</td>\n",
       "      <td>NaN</td>\n",
       "    </tr>\n",
       "    <tr>\n",
       "      <td>4</td>\n",
       "      <td>25.096</td>\n",
       "      <td>0.233</td>\n",
       "      <td>10.983</td>\n",
       "      <td>18.653</td>\n",
       "      <td>18.808</td>\n",
       "      <td>20.152</td>\n",
       "      <td>20.152</td>\n",
       "      <td>4.692</td>\n",
       "      <td>13.871</td>\n",
       "      <td>0.177</td>\n",
       "      <td>...</td>\n",
       "      <td>0.121</td>\n",
       "      <td>0.003</td>\n",
       "      <td>0.0</td>\n",
       "      <td>0.049</td>\n",
       "      <td>3.937</td>\n",
       "      <td>1.348</td>\n",
       "      <td>0.00886</td>\n",
       "      <td>1.612</td>\n",
       "      <td>1.432</td>\n",
       "      <td>NaN</td>\n",
       "    </tr>\n",
       "  </tbody>\n",
       "</table>\n",
       "<p>5 rows × 72 columns</p>\n",
       "</div>"
      ],
      "text/plain": [
       "    CAPEI     bm     evm  pe_op_basic  pe_op_dil  pe_exi  pe_inc     ps  \\\n",
       "0  26.386  0.252  10.110       19.217     19.378  20.052  20.052  4.976   \n",
       "1  28.226  0.252  10.110       20.542     20.714  21.435  21.435  5.323   \n",
       "2  29.464  0.252  10.110       21.425     21.605  22.357  22.357  5.556   \n",
       "3  28.783  0.233  10.983       21.378     21.556  23.096  23.096  5.381   \n",
       "4  25.096  0.233  10.983       18.653     18.808  20.152  20.152  4.692   \n",
       "\n",
       "      pcf    dpr  ...  rd_sale  adv_sale  staff_sale  accrual    ptb  \\\n",
       "0  13.353  0.129  ...    0.120     0.003         0.0    0.058  4.145   \n",
       "1  14.285  0.129  ...    0.120     0.003         0.0    0.058  4.434   \n",
       "2  14.911  0.129  ...    0.120     0.003         0.0    0.058  4.628   \n",
       "3  15.909  0.177  ...    0.121     0.003         0.0    0.049  4.515   \n",
       "4  13.871  0.177  ...    0.121     0.003         0.0    0.049  3.937   \n",
       "\n",
       "   PEG_trailing  DIVYIELD  PEG_1yrforward  PEG_ltgforward  Unnamed: 88  \n",
       "0         1.045   0.00867           2.221           1.554          NaN  \n",
       "1         1.117   0.00811           2.058           1.520          NaN  \n",
       "2         1.165   0.00778           2.146           1.586          NaN  \n",
       "3         1.545   0.00773           1.848           1.642          NaN  \n",
       "4         1.348   0.00886           1.612           1.432          NaN  \n",
       "\n",
       "[5 rows x 72 columns]"
      ]
     },
     "execution_count": 132,
     "metadata": {},
     "output_type": "execute_result"
    }
   ],
   "source": [
    "X = df.loc[:, df.columns != \"splticrm\"]\n",
    "X = X.drop([\"permno\", \"CUSIP\", \"NCUSIP\", \"adate\", \"qdate\", \"public_date\", \"TICKER\"], axis=1)\n",
    "X = X.drop([\"COMNAM\", \"PERMCO\", \"NWPERM\", \"gvkey\", \"datadate\", \"tic\", \"cusip\", \"conm\", \"PRC\"], axis=1)\n",
    "X.head()"
   ]
  },
  {
   "cell_type": "code",
   "execution_count": 133,
   "metadata": {},
   "outputs": [],
   "source": [
    "bool = X.isnull().sum() > 10000\n",
    "delCol = X.columns[bool]\n",
    "X = X.drop(delCol, axis=1)"
   ]
  },
  {
   "cell_type": "code",
   "execution_count": 134,
   "metadata": {},
   "outputs": [],
   "source": [
    "from sklearn.pipeline import Pipeline\n",
    "from sklearn.model_selection import GridSearchCV\n",
    "from sklearn.preprocessing import StandardScaler\n",
    "from sklearn.impute import SimpleImputer\n",
    "from sklearn import metrics\n",
    "from sklearn.svm import SVC\n",
    "from sklearn.ensemble import RandomForestClassifier\n",
    "from sklearn.model_selection import train_test_split\n",
    "from sklearn.linear_model import LogisticRegression"
   ]
  },
  {
   "cell_type": "code",
   "execution_count": 135,
   "metadata": {},
   "outputs": [],
   "source": [
    "#now do the train test split\n",
    "X_train, X_test, y_train, y_test = train_test_split(X, Y, \n",
    "                                                    test_size=0.2, \n",
    "                                                    random_state=0, \n",
    "                                                    stratify=Y)"
   ]
  },
  {
   "cell_type": "code",
   "execution_count": 144,
   "metadata": {},
   "outputs": [
    {
     "data": {
      "text/html": [
       "<div>\n",
       "<style scoped>\n",
       "    .dataframe tbody tr th:only-of-type {\n",
       "        vertical-align: middle;\n",
       "    }\n",
       "\n",
       "    .dataframe tbody tr th {\n",
       "        vertical-align: top;\n",
       "    }\n",
       "\n",
       "    .dataframe thead th {\n",
       "        text-align: right;\n",
       "    }\n",
       "</style>\n",
       "<table border=\"1\" class=\"dataframe\">\n",
       "  <thead>\n",
       "    <tr style=\"text-align: right;\">\n",
       "      <th></th>\n",
       "      <th>CAPEI</th>\n",
       "      <th>bm</th>\n",
       "      <th>evm</th>\n",
       "      <th>pe_op_basic</th>\n",
       "      <th>pe_op_dil</th>\n",
       "      <th>pe_exi</th>\n",
       "      <th>pe_inc</th>\n",
       "      <th>ps</th>\n",
       "      <th>pcf</th>\n",
       "      <th>dpr</th>\n",
       "      <th>...</th>\n",
       "      <th>sale_equity</th>\n",
       "      <th>sale_nwc</th>\n",
       "      <th>rd_sale</th>\n",
       "      <th>adv_sale</th>\n",
       "      <th>staff_sale</th>\n",
       "      <th>accrual</th>\n",
       "      <th>ptb</th>\n",
       "      <th>DIVYIELD</th>\n",
       "      <th>PEG_1yrforward</th>\n",
       "      <th>PEG_ltgforward</th>\n",
       "    </tr>\n",
       "  </thead>\n",
       "  <tbody>\n",
       "    <tr>\n",
       "      <td>14340</td>\n",
       "      <td>24.262</td>\n",
       "      <td>0.821</td>\n",
       "      <td>7.499</td>\n",
       "      <td>9.469</td>\n",
       "      <td>9.551</td>\n",
       "      <td>9.721</td>\n",
       "      <td>9.721</td>\n",
       "      <td>2.777</td>\n",
       "      <td>12.688</td>\n",
       "      <td>0.238</td>\n",
       "      <td>...</td>\n",
       "      <td>0.917</td>\n",
       "      <td>18.666</td>\n",
       "      <td>0.0</td>\n",
       "      <td>0.0</td>\n",
       "      <td>0.287</td>\n",
       "      <td>0.027</td>\n",
       "      <td>1.517</td>\n",
       "      <td>0.0151</td>\n",
       "      <td>0.208</td>\n",
       "      <td>0.669</td>\n",
       "    </tr>\n",
       "  </tbody>\n",
       "</table>\n",
       "<p>1 rows × 70 columns</p>\n",
       "</div>"
      ],
      "text/plain": [
       "        CAPEI     bm    evm  pe_op_basic  pe_op_dil  pe_exi  pe_inc     ps  \\\n",
       "14340  24.262  0.821  7.499        9.469      9.551   9.721   9.721  2.777   \n",
       "\n",
       "          pcf    dpr  ...  sale_equity  sale_nwc  rd_sale  adv_sale  \\\n",
       "14340  12.688  0.238  ...        0.917    18.666      0.0       0.0   \n",
       "\n",
       "       staff_sale  accrual    ptb  DIVYIELD  PEG_1yrforward  PEG_ltgforward  \n",
       "14340       0.287    0.027  1.517    0.0151           0.208           0.669  \n",
       "\n",
       "[1 rows x 70 columns]"
      ]
     },
     "execution_count": 144,
     "metadata": {},
     "output_type": "execute_result"
    }
   ],
   "source": [
    "X_train.head(1)\n"
   ]
  },
  {
   "cell_type": "code",
   "execution_count": 145,
   "metadata": {},
   "outputs": [
    {
     "data": {
      "text/plain": [
       "CAPEI               44\n",
       "bm                 552\n",
       "evm                 75\n",
       "pe_op_basic        271\n",
       "pe_op_dil          274\n",
       "                  ... \n",
       "accrual             28\n",
       "ptb                552\n",
       "DIVYIELD          3999\n",
       "PEG_1yrforward     818\n",
       "PEG_ltgforward    1292\n",
       "Length: 70, dtype: int64"
      ]
     },
     "execution_count": 145,
     "metadata": {},
     "output_type": "execute_result"
    }
   ],
   "source": [
    "X_train.isna().sum()"
   ]
  },
  {
   "cell_type": "code",
   "execution_count": 137,
   "metadata": {},
   "outputs": [],
   "source": [
    "## define function for IterativeImputer\n",
    "\n",
    "from sklearn.experimental import enable_iterative_imputer \n",
    "# now you can import normally from sklearn.impute\n",
    "from sklearn.impute import IterativeImputer\n",
    "\n",
    "#def iterative_imputer(df):\n",
    "   # \"\"\" Impute the missing values (NaN) with the IterativeImputer\n",
    "    \n",
    "    #Args:\n",
    "     #   df: feature matrix with NaN values to be imputed\n",
    "    #\"\"\"\n",
    "    #Define all column with numeric values (the features)\n",
    "    #num_cols = ['CAPEI', 'bm', 'evm', 'pe_op_basic', 'pe_op_dil', 'pe_exi', 'pe_inc', 'ps', 'pcf', \n",
    "     #       'dpr', 'npm', 'opmbd', 'opmad', 'gpm', 'ptpm', 'cfm', 'roa', 'roe', 'roce', 'efftax', 'aftret_eq',\n",
    "      #      'aftret_invcapx', 'aftret_equity', 'pretret_noa', 'pretret_earnat', 'GProf', 'equity_invcap',\n",
    "       #     'debt_invcap', 'totdebt_invcap', 'capital_ratio', 'int_debt', 'int_totdebt', 'cash_lt', 'invt_act',\n",
    "        ##    'rect_act', 'debt_at', 'debt_ebitda', 'short_debt', 'curr_debt', 'lt_debt', 'profit_lct', 'ocf_lct',\n",
    "          #  'cash_debt', 'fcf_ocf', 'lt_ppent', 'dltt_be', 'debt_assets', 'debt_capital', 'de_ratio', 'intcov',\n",
    "           ## 'intcov_ratio', 'cash_ratio', 'quick_ratio', 'curr_ratio', 'cash_conversion', 'inv_turn', 'at_turn',\n",
    "            #'rect_turn', 'pay_turn', 'sale_invcap', 'sale_equity', 'sale_nwc', 'accrual', 'ptb',\n",
    "            #'DIVYIELD', 'PEG_1yrforward', 'PEG_ltgforward']\n",
    "\n",
    "    # Copy df to df_imputed\n",
    "    #df_imputed = df[num_cols].copy(deep=True)\n",
    "\n",
    "    # Initialize IterativeImputer\n",
    "    #mice_imputer = IterativeImputer()\n",
    "\n",
    "    # Impute using fit_tranform on df\n",
    "    #df_imputed.iloc[:, :] = mice_imputer.fit_transform(df[num_cols])\n",
    "    "
   ]
  },
  {
   "cell_type": "code",
   "execution_count": 138,
   "metadata": {},
   "outputs": [
    {
     "name": "stderr",
     "output_type": "stream",
     "text": [
      "/Users/Simon/opt/anaconda3/lib/python3.7/site-packages/sklearn/impute/_iterative.py:603: ConvergenceWarning: [IterativeImputer] Early stopping criterion not reached.\n",
      "  \" reached.\", ConvergenceWarning)\n",
      "/Users/Simon/opt/anaconda3/lib/python3.7/site-packages/sklearn/impute/_iterative.py:603: ConvergenceWarning: [IterativeImputer] Early stopping criterion not reached.\n",
      "  \" reached.\", ConvergenceWarning)\n"
     ]
    }
   ],
   "source": [
    "# apply IterativeImputer\n",
    "### here I still have to implement the correct function\n",
    "\n",
    "num_cols = ['CAPEI', 'bm', 'evm', 'pe_op_basic', 'pe_op_dil', 'pe_exi', 'pe_inc', 'ps', 'pcf', \n",
    "            'dpr', 'npm', 'opmbd', 'opmad', 'gpm', 'ptpm', 'cfm', 'roa', 'roe', 'roce', 'efftax', 'aftret_eq',\n",
    "            'aftret_invcapx', 'aftret_equity', 'pretret_noa', 'pretret_earnat', 'GProf', 'equity_invcap',\n",
    "            'debt_invcap', 'totdebt_invcap', 'capital_ratio', 'int_debt', 'int_totdebt', 'cash_lt', 'invt_act',\n",
    "            'rect_act', 'debt_at', 'debt_ebitda', 'short_debt', 'curr_debt', 'lt_debt', 'profit_lct', 'ocf_lct',\n",
    "            'cash_debt', 'fcf_ocf', 'lt_ppent', 'dltt_be', 'debt_assets', 'debt_capital', 'de_ratio', 'intcov',\n",
    "            'intcov_ratio', 'cash_ratio', 'quick_ratio', 'curr_ratio', 'cash_conversion', 'inv_turn', 'at_turn',\n",
    "            'rect_turn', 'pay_turn', 'sale_invcap', 'sale_equity', 'sale_nwc', 'accrual', 'ptb',\n",
    "            'DIVYIELD', 'PEG_1yrforward', 'PEG_ltgforward']\n",
    "\n",
    "# Copy df to df_mice_imputed\n",
    "X_train_imputed = X_train[num_cols].copy(deep=True)\n",
    "\n",
    "# Initialize IterativeImputer\n",
    "mice_imputer = IterativeImputer()\n",
    "\n",
    "# Impute using fit_tranform on diabetes\n",
    "X_train_imputed.iloc[:, :] = mice_imputer.fit_transform(X_train[num_cols])\n",
    "\n",
    "# Copy df to df_mice_imputed\n",
    "X_test_imputed = X_test[num_cols].copy(deep=True)\n",
    "\n",
    "# Initialize IterativeImputer\n",
    "mice_imputer = IterativeImputer()\n",
    "\n",
    "# Impute using fit_tranform on diabetes\n",
    "X_test_imputed.iloc[:, :] = mice_imputer.fit_transform(X_test[num_cols])\n"
   ]
  },
  {
   "cell_type": "code",
   "execution_count": 139,
   "metadata": {},
   "outputs": [],
   "source": [
    "# impute the missing values with IterativeImputer\n",
    "\n",
    "#X_train_imputed = iterative_imputer(dataframe=X_train)\n",
    "#X_test_imputed = iterative_imputer(dataframe=X_test)\n"
   ]
  },
  {
   "cell_type": "code",
   "execution_count": 140,
   "metadata": {},
   "outputs": [],
   "source": [
    "from sklearn.ensemble import RandomForestClassifier\n",
    "\n",
    "def feature_selection(x, y, n):\n",
    "    \"\"\" Find out, which the most important features are.\n",
    "    \n",
    "    Args:\n",
    "        x: feature input without NaN values\n",
    "        y: classification input\n",
    "        n: number of most important features, that need to be calculated\n",
    "    \"\"\"\n",
    "    \n",
    "    feat_labels = x.columns[:]\n",
    "    \n",
    "    # Create Random Forest object, fit data and\n",
    "    # extract feature importance attributes\n",
    "    forest = RandomForestClassifier(random_state=1)\n",
    "    forest.fit(x, y)\n",
    "    importances = forest.feature_importances_\n",
    "    \n",
    "    # Get cumsum of the n most important features\n",
    "    feat_imp = np.sort(importances)[::-1]\n",
    "    sum_feat_imp = np.cumsum(feat_imp)[:n]\n",
    "    \n",
    "     # Sort output (by relative importance) and \n",
    "    # print top n features\n",
    "    indices = np.argsort(importances)[::-1]\n",
    "    for i in range(n):\n",
    "        print('{0:2d}) {1:7s} {2:6.4f}'.format(i + 1, \n",
    "                                           feat_labels[indices[i]],\n",
    "                                           importances[indices[i]]))\n",
    "    \n",
    "    # Plot Feature Importance (both cumul., individual)\n",
    "    plt.figure(figsize=(12, 8))\n",
    "    plt.bar(range(n), importances[indices[:n]], align='center')\n",
    "    plt.xticks(range(n), feat_labels[indices[:n]], rotation=90)\n",
    "    plt.xlim([-1, n])\n",
    "    plt.xlabel('Feature')\n",
    "    plt.ylabel('Rel. Feature Importance')\n",
    "    plt.step(range(n), sum_feat_imp, where='mid', \n",
    "         label='Cumulative importance')\n",
    "    plt.tight_layout();\n",
    "    "
   ]
  },
  {
   "cell_type": "code",
   "execution_count": 141,
   "metadata": {},
   "outputs": [
    {
     "name": "stderr",
     "output_type": "stream",
     "text": [
      "/Users/Simon/opt/anaconda3/lib/python3.7/site-packages/sklearn/ensemble/forest.py:245: FutureWarning: The default value of n_estimators will change from 10 in version 0.20 to 100 in 0.22.\n",
      "  \"10 in version 0.20 to 100 in 0.22.\", FutureWarning)\n"
     ]
    },
    {
     "name": "stdout",
     "output_type": "stream",
     "text": [
      " 1) inv_turn 0.0268\n",
      " 2) gpm     0.0251\n",
      " 3) rect_turn 0.0241\n",
      " 4) intcov_ratio 0.0239\n",
      " 5) lt_ppent 0.0237\n",
      " 6) lt_debt 0.0223\n",
      " 7) cash_conversion 0.0212\n",
      " 8) dpr     0.0211\n",
      " 9) curr_debt 0.0202\n",
      "10) rect_act 0.0194\n",
      "11) sale_invcap 0.0194\n",
      "12) invt_act 0.0190\n",
      "13) GProf   0.0185\n",
      "14) at_turn 0.0184\n",
      "15) pretret_noa 0.0181\n",
      "16) curr_ratio 0.0179\n",
      "17) cash_lt 0.0177\n",
      "18) de_ratio 0.0175\n",
      "19) int_totdebt 0.0174\n",
      "20) pay_turn 0.0173\n",
      "21) sale_equity 0.0172\n",
      "22) DIVYIELD 0.0172\n",
      "23) quick_ratio 0.0167\n",
      "24) cash_ratio 0.0162\n",
      "25) intcov  0.0161\n",
      "26) opmbd   0.0159\n",
      "27) cash_debt 0.0158\n",
      "28) opmad   0.0156\n",
      "29) cfm     0.0154\n",
      "30) pretret_earnat 0.0154\n",
      "31) CAPEI   0.0153\n",
      "32) int_debt 0.0152\n",
      "33) debt_capital 0.0148\n",
      "34) debt_assets 0.0148\n",
      "35) debt_at 0.0147\n",
      "36) efftax  0.0145\n",
      "37) fcf_ocf 0.0145\n",
      "38) equity_invcap 0.0145\n",
      "39) debt_ebitda 0.0143\n",
      "40) evm     0.0137\n"
     ]
    },
    {
     "data": {
      "image/png": "[encoded data removed]",
      "text/plain": [
       "<Figure size 864x576 with 1 Axes>"
      ]
     },
     "metadata": {
      "needs_background": "light"
     },
     "output_type": "display_data"
    }
   ],
   "source": [
    "feature_selection(x = X_train_imputed, y = y_train, n = 40)"
   ]
  }
 ],
 "metadata": {
  "kernelspec": {
   "display_name": "Python 3",
   "language": "python",
   "name": "python3"
  },
  "language_info": {
   "codemirror_mode": {
    "name": "ipython",
    "version": 3
   },
   "file_extension": ".py",
   "mimetype": "text/x-python",
   "name": "python",
   "nbconvert_exporter": "python",
   "pygments_lexer": "ipython3",
   "version": "3.7.4"
  }
 },
 "nbformat": 4,
 "nbformat_minor": 2
}
