{
 "cells": [
  {
   "cell_type": "code",
   "execution_count": 2,
   "metadata": {},
   "outputs": [
    {
     "name": "stderr",
     "output_type": "stream",
     "text": [
      "Using TensorFlow backend.\n"
     ]
    }
   ],
   "source": [
    "import pandas as pd\n",
    "from numpy import loadtxt\n",
    "from keras.models import Sequential\n",
    "from keras.layers import Dense\n",
    "from keras.layers import Dropout\n",
    "from keras.optimizers import SGD\n",
    "from keras.utils import to_categorical\n",
    "from keras.constraints import maxnorm\n",
    "from matplotlib import pyplot\n",
    "from keras.wrappers.scikit_learn import KerasClassifier\n",
    "from keras.utils import np_utils\n",
    "from sklearn.model_selection import cross_val_score\n",
    "from sklearn.model_selection import KFold\n",
    "from sklearn.preprocessing import LabelEncoder\n",
    "from sklearn.pipeline import Pipeline\n",
    "from sklearn.preprocessing import StandardScaler\n",
    "from sklearn.model_selection import GridSearchCV\n",
    "from sklearn import preprocessing\n",
    "import datetime"
   ]
  },
  {
   "cell_type": "code",
   "execution_count": 3,
   "metadata": {},
   "outputs": [],
   "source": [
    "X_train = pd.read_csv(\"X_train.csv\")\n",
    "X_train = X_train.iloc[:, 1:]\n",
    "X_test = pd.read_csv(\"X_test.csv\")\n",
    "X_test = X_test.iloc[:, 1:]\n",
    "Y_train = pd.read_csv(\"y_train.csv\")\n",
    "Y_test = pd.read_csv(\"y_test.csv\")\n",
    "Y_train = Y_train['Rating as Factor'].astype('category') #factorize trainset\n",
    "Y_test = Y_test['Rating as Factor'].astype('category')   #factorize testset\n",
    "scaler = preprocessing.StandardScaler().fit(X_train)\n",
    "X_train_std = scaler.transform(X_train) #standardizing using StandardScaler\n",
    "X_test_std = scaler.transform(X_test) #standardizing using StandardScaler"
   ]
  },
  {
   "cell_type": "code",
   "execution_count": 8,
   "metadata": {},
   "outputs": [],
   "source": [
    "def baseline_model1(optimizer='Nadam',neurons=350,activ='sigmoid',dropout_rate=0.0):\n",
    "    # create model\n",
    "    model = Sequential()\n",
    "    model.add(Dense(neurons, input_dim=36, activation=activ))\n",
    "    model.add(Dropout(dropout_rate))\n",
    "    model.add(Dense(17, activation='softmax'))\n",
    "    # compile model\n",
    "    model.compile(loss='sparse_categorical_crossentropy', optimizer=optimizer, metrics=['accuracy']) #This loss function doesn't need OneHotEncoded Y-Variables.\n",
    "    return(model)\n",
    "\n",
    "def baseline_model2(optimizer='Nadam',neurons1=400,neurons2=150,activ1 = 'sigmoid', activ2 = 'sigmoid', dropout_rate1=0.0,dropout_rate2=0.0):\n",
    "    # create model\n",
    "    model = Sequential()\n",
    "    model.add(Dense(neurons1, input_dim=36, activation=activ1))\n",
    "    model.add(Dropout(dropout_rate1))\n",
    "    model.add(Dense(neurons2, activation=activ2))\n",
    "    model.add(Dropout(dropout_rate2))\n",
    "    model.add(Dense(17, activation='softmax'))\n",
    "    # compile model\n",
    "    model.compile(loss='sparse_categorical_crossentropy', optimizer=optimizer, metrics=['accuracy']) #This loss function doesn't need OneHotEncoded Y-Variables.\n",
    "    return(model)\n",
    "\n",
    "\n",
    "def NeuralNet1layer(X_train_std,Y_train, param_grid):\n",
    "    model = KerasClassifier(build_fn=baseline_model1, epochs=100, batch_size=20,verbose=0)\n",
    "    grid = GridSearchCV(estimator=model, param_grid=param_grid, cv=3, n_jobs=-1) #We don't use a pipeline because of the limits of Keras sklearn wrapper which can't do a gridsearch over the hyperparameters when in a pipeline, also for some hyperparameters parallelizing is not possible due to the wrapper\n",
    "    grid_result = grid.fit(X_train_std, Y_train)\n",
    "    return(grid_result)\n",
    "\n",
    "def NeuralNet2layer(X_train_std,Y_train, param_grid):\n",
    "    model = KerasClassifier(build_fn=baseline_model2, epochs=100, batch_size=20,verbose=0)\n",
    "    grid = GridSearchCV(estimator=model, param_grid=param_grid, cv=3, n_jobs=-1) #We don't use a pipeline because of the limits of Keras sklearn wrapper which can't do a gridsearch over the hyperparameters when in a pipeline\n",
    "    grid_result = grid.fit(X_train_std, Y_train)\n",
    "    return(grid_result)\n"
   ]
  },
  {
   "cell_type": "code",
   "execution_count": 4,
   "metadata": {},
   "outputs": [],
   "source": [
    "\n",
    "\n",
    "#The best Grid Search would be to test all hyperparameter configurations simultaneously because of possible interactions of the hyperparameters. \n",
    "#However this would take an extremely long time due to the many hyperparameters and their possible values.\n",
    "#Therefore we take a sequential approach(1 or 2 hyperparameters at a time) on grid searching the hyperparameters to not have to train the model over multiple days.\n",
    "\n",
    "\n",
    "\n",
    "# define the grid search hyperparameters:\n",
    "# after 100 epochs the accuracy doesn't improve much therefore we use epoch=100 in order to have a well trained neural net which doesn't need too much time to fit.\n",
    "\n",
    "#batch_size = [5,10,20] yields that 5 is the best hyperparameter. It makes sense that a lower batch size results in a better accuracy since it optimizes more often. \n",
    "#A lower batch size means we more often adjust the weights which takes time. \n",
    "#The differnces between the batch size accuracy is only 1% while the time for computing is significantly lower for higher batch sizes. \n",
    "#Therefore for finding the other optimal hyperparameters we use a batch size of 20 and might adjust it for the final model fitting with the optimal hyperparameters\n",
    "\n",
    "#optimizer = ['SGD', 'RMSprop', 'Adagrad', 'Adadelta', 'Adam', 'Adamax', 'Nadam'] yielded Nadam to be the best optimizer with Adam on second rank.\n",
    "#Nadam is is Adam with Nesterov Momentum as they both take the same amount of time to train we'll use Nadam because of its better accuracy.\n",
    "\n",
    "#1Layer: Best combination of each activation for neurons in grid[150,200,250,300]: \n",
    "#0.893909 (0.010722) with: {'activ': 'relu', 'neurons': 300}\n",
    "#0.937349 (0.001372) with: {'activ': 'tanh', 'neurons': 250}\n",
    "#0.933268 (0.000530) with: {'activ': 'sigmoid', 'neurons': 250\n",
    "#0.897989 (0.006316) with: {'activ': 'hard_sigmoid', 'neurons': 300}\n",
    "#0.767458 (0.032144) with: {'activ': 'softmax', 'neurons': 300}\n",
    "#0.846942 (0.002463) with: {'activ': 'softplus', 'neurons': 300}\n",
    "#0.935521 (0.003249) with: {'activ': 'softsign', 'neurons': 250}\n",
    "#0.315170 (0.006817) with: {'activ': 'linear', 'neurons': 300}\n",
    "#-> Test the Top3 activation functions for 200 epochs with neurons grid[200,250,300,350] in hopes that maybe after 200epochs one activation function will be clearly better:\n",
    "#Best is 0.947295 (0.000936) with: {'activ': 'sigmoid', 'neurons': 350} (1%better than other activation functions)\n",
    "\n",
    "#Checking dropoutrate together with weight constraint we get a dropout rate of 0.0 and a high weight constraint as best hyperparameters.\n",
    "#This means regularization here does not help and we don't use dropouts or weight constraints.\n",
    "\n",
    "\n",
    "#2Layers: Test combinations of neurons in each layer with different activation functions.\n",
    "#We only included softsign, relu and sigmoid as the possible activation function. This because sigmoid&softsign performed very well on 1layer and relu seems to be favoured by a lot of people in the literature.\n",
    "#We didn't include tanh because it seems to work very similar to the sigmoid acivation function. We didn't include more activation function to keep the time for the grid search in a somewhat acceptable range.\n",
    "#Grid Search found this as the best combination: Best: 0.943087 using {'activ1': 'sigmoid', 'activ2': 'sigmoid', 'neurons1': 400, 'neurons2': 150}\n",
    "\n",
    "#Again dropout Rate is chosen as 0.0 being the best combination.\n",
    "\n"
   ]
  },
  {
   "cell_type": "code",
   "execution_count": 7,
   "metadata": {},
   "outputs": [
    {
     "name": "stdout",
     "output_type": "stream",
     "text": [
      "2020-04-14 20:39:22.245265\n",
      "Best: 0.945807 using {'activ': 'sigmoid', 'batch_size': 10, 'dropout_rate': 0.0, 'epochs': 200, 'neurons': 350, 'optimizer': 'Nadam'}\n",
      "0.945807 (0.001247) with: {'activ': 'sigmoid', 'batch_size': 10, 'dropout_rate': 0.0, 'epochs': 200, 'neurons': 350, 'optimizer': 'Nadam'}\n",
      "0.941089 (0.000357) with: {'activ': 'sigmoid', 'batch_size': 10, 'dropout_rate': 0.0, 'epochs': 200, 'neurons': 400, 'optimizer': 'Nadam'}\n",
      "0.941556 (0.002023) with: {'activ': 'sigmoid', 'batch_size': 10, 'dropout_rate': 0.0, 'epochs': 200, 'neurons': 450, 'optimizer': 'Nadam'}\n",
      "Test score: 0.9642978310585022\n",
      "Predicted   0    1    2   3     4    5   6    7    8   9   10  11  12   13  \\\n",
      "True                                                                         \n",
      "0          719    7    0   0     0    1   0    2    1   0   0   0   0    1   \n",
      "1            3  379    5   0     0    0   1    1    0   0   0   0   0    0   \n",
      "2            1    6  188   0     1    0   0    1    0   1   0   0   0    0   \n",
      "3            0    0    0  59     0    0   0    0    0   0   0   0   0    0   \n",
      "4            3    1    0   0  1061   11   0    2    9   0   0   0   0    0   \n",
      "5            0    0    0   0    16  605   0    1    5   0   0   0   0    0   \n",
      "6            0    0    0   0     3    0  95    0    0   0   0   0   0    0   \n",
      "7           13    0    0   0     2    0   0  754    6   0   0   0   0    0   \n",
      "8            4    0    0   0    13    2   0   24  893   0   0   0   0    0   \n",
      "9            0    0    0   0     0    0   0    0    0  40   0   0   0    0   \n",
      "10           0    0    0   0     0    0   0    0    0   0  10   0   0    0   \n",
      "11           0    0    0   0     0    0   0    0    0   0   1  28   0    0   \n",
      "12           0    0    0   0     0    0   0    0    0   0   0   0  74    2   \n",
      "13           0    0    0   0     0    0   0    0    0   0   0   0   3  200   \n",
      "14           0    0    0   0     1    6   0    0    0   0   0   0   0    1   \n",
      "15           0    0    0   0     0    0   0    0    0   0   0   0   0    1   \n",
      "16           0    0    0   0     0    0   0    0    0   0   0   1   0    1   \n",
      "\n",
      "Predicted   14   15  16  \n",
      "True                     \n",
      "0            0    0   0  \n",
      "1            0    0   0  \n",
      "2            0    0   0  \n",
      "3            0    0   0  \n",
      "4            2    2   0  \n",
      "5           10    5   0  \n",
      "6            0    0   0  \n",
      "7            0    1   0  \n",
      "8            0    0   0  \n",
      "9            0    0   0  \n",
      "10           0    0   0  \n",
      "11           0    0   0  \n",
      "12           0    0   0  \n",
      "13           3    8   0  \n",
      "14         316    6   0  \n",
      "15           9  209   0  \n",
      "16           0    0  42  \n",
      "2020-04-14 21:18:29.028708\n"
     ]
    }
   ],
   "source": [
    "#1Layer Neural Net(According to the Universal Approximation Theorem theoretically a 1 Layer Neural Net can approximate any other Neural Network):\n",
    "#Final model after Hyperparameter optimization. We get a 96% accuracy for the testset\n",
    "dropout_rate = [0.0]\n",
    "optimizer = ['Nadam']\n",
    "activ = ['sigmoid']\n",
    "neurons = [350,400,450]\n",
    "epochs=[200]\n",
    "batch_size=[10]\n",
    "print(datetime.datetime.now())\n",
    "# model fitting\n",
    "\n",
    "param_grid = dict(dropout_rate=dropout_rate, optimizer=optimizer,activ=activ,neurons=neurons,epochs=epochs,batch_size=batch_size)\n",
    "grid = NeuralNet1layer(X_train_std,Y_train,param_grid)\n",
    "#results\n",
    "print(\"Best: %f using %s\" % (grid.best_score_, grid.best_params_))\n",
    "means = grid.cv_results_['mean_test_score']\n",
    "stds = grid.cv_results_['std_test_score']\n",
    "params = grid.cv_results_['params']\n",
    "for mean, stdev, param in zip(means, stds, params):\n",
    "    print(\"%f (%f) with: %r\" % (mean, stdev, param))\n",
    "\n",
    "print('Test score:', grid.score(X_test_std,Y_test)) \n",
    "y_pred = grid.predict(X_test_std)\n",
    "# Manual confusion matrix as pandas DataFrame\n",
    "confm = pd.DataFrame({'Predicted': y_pred,\n",
    "                      'True': Y_test})\n",
    "print(confm.groupby(['True','Predicted'], sort=True).size().unstack('Predicted')) \n",
    "print(datetime.datetime.now())"
   ]
  },
  {
   "cell_type": "code",
   "execution_count": 10,
   "metadata": {},
   "outputs": [
    {
     "name": "stdout",
     "output_type": "stream",
     "text": [
      "Train: 0.992, Test: 0.966\n"
     ]
    },
    {
     "data": {
      "image/png": "[encoded data removed]",
      "text/plain": [
       "<Figure size 432x288 with 2 Axes>"
      ]
     },
     "metadata": {
      "needs_background": "light"
     },
     "output_type": "display_data"
    }
   ],
   "source": [
    "#Training the optimal Neural Network with 1 Layer on the whole Training Data\n",
    "model = Sequential()\n",
    "model.add(Dense(350, input_dim=36, activation='sigmoid'))\n",
    "model.add(Dense(17, activation='softmax'))\n",
    "# compile model\n",
    "model.compile(loss='sparse_categorical_crossentropy', optimizer='Nadam', metrics=['accuracy'])\n",
    "# fit model\n",
    "history = model.fit(X_train_std, Y_train, validation_data=(X_test_std, Y_test), epochs=200, batch_size=10, verbose=0)\n",
    "# evaluate the model\n",
    "_, train_acc = model.evaluate(X_train_std, Y_train, verbose=0)\n",
    "_, test_acc = model.evaluate(X_test_std, Y_test, verbose=0)\n",
    "print('Train: %.3f, Test: %.3f' % (train_acc, test_acc))\n",
    "# plot loss during training\n",
    "pyplot.subplot(211)\n",
    "pyplot.title('Loss')\n",
    "pyplot.plot(history.history['loss'], label='train')\n",
    "pyplot.plot(history.history['val_loss'], label='test')\n",
    "pyplot.legend()\n",
    "# plot accuracy during training\n",
    "pyplot.subplot(212)\n",
    "pyplot.title('Accuracy')\n",
    "pyplot.plot(history.history['accuracy'], label='train')\n",
    "pyplot.plot(history.history['val_accuracy'], label='test')\n",
    "pyplot.legend()\n",
    "pyplot.show()\n"
   ]
  },
  {
   "cell_type": "code",
   "execution_count": 7,
   "metadata": {},
   "outputs": [
    {
     "name": "stdout",
     "output_type": "stream",
     "text": [
      "2020-04-14 17:35:48.312042\n",
      "Best: 0.943937 using {'activ1': 'sigmoid', 'activ2': 'sigmoid', 'dropout_rate1': 0.0, 'dropout_rate2': 0.0, 'neurons1': 400, 'neurons2': 150}\n",
      "0.943937 (0.001614) with: {'activ1': 'sigmoid', 'activ2': 'sigmoid', 'dropout_rate1': 0.0, 'dropout_rate2': 0.0, 'neurons1': 400, 'neurons2': 150}\n",
      "Test score: 0.9622577428817749\n",
      "Predicted   0    1    2   3     4    5   6    7    8   9   10  11  12   13  \\\n",
      "True                                                                         \n",
      "0          719    3    0   0     0    0   0    8    0   0   0   0   0    1   \n",
      "1            5  373    9   0     0    0   1    1    0   0   0   0   0    0   \n",
      "2            1    4  193   0     0    0   0    0    0   0   0   0   0    0   \n",
      "3            0    0    0  59     0    0   0    0    0   0   0   0   0    0   \n",
      "4            2    1    1   0  1050   15   0    1   18   0   0   0   0    0   \n",
      "5            0    0    0   0    20  609   0    0    6   0   0   0   0    0   \n",
      "6            0    1    3   1     0    0  91    0    1   1   0   0   0    0   \n",
      "7            5    0    0   0     3    1   0  753   14   0   0   0   0    0   \n",
      "8            2    0    0   0     8    1   0   18  907   0   0   0   0    0   \n",
      "9            0    0    0   0     0    0   0    0    0  40   0   0   0    0   \n",
      "10           0    0    0   0     0    0   0    0    0   0  10   0   0    0   \n",
      "11           0    0    0   0     0    0   0    0    0   0   0  28   1    0   \n",
      "12           0    0    0   0     0    0   0    0    0   0   0   0  74    2   \n",
      "13           0    0    0   0     0    1   0    0    0   0   0   0   3  203   \n",
      "14           0    0    0   0     1   15   0    0    0   0   0   0   0    1   \n",
      "15           0    0    0   0     1    3   0    0    0   0   0   0   0    4   \n",
      "16           0    0    0   0     0    1   0    0    0   0   0   1   2    0   \n",
      "\n",
      "Predicted   14   15  16  \n",
      "True                     \n",
      "0            0    0   0  \n",
      "1            0    0   0  \n",
      "2            0    0   0  \n",
      "3            0    0   0  \n",
      "4            2    1   0  \n",
      "5            5    2   0  \n",
      "6            0    0   0  \n",
      "7            0    0   0  \n",
      "8            0    0   0  \n",
      "9            0    0   0  \n",
      "10           0    0   0  \n",
      "11           0    0   0  \n",
      "12           0    0   0  \n",
      "13           3    4   0  \n",
      "14         310    3   0  \n",
      "15          10  201   0  \n",
      "16           0    0  40  \n",
      "2020-04-14 17:40:22.424889\n"
     ]
    }
   ],
   "source": [
    "#2Layer Neural Net:\n",
    "activ1 = ['sigmoid']\n",
    "activ2 = ['sigmoid']\n",
    "neurons1 = [400]\n",
    "neurons2 = [150]\n",
    "dropout_rate1 = [0.0]\n",
    "dropout_rate2 = [0.0]\n",
    "print(datetime.datetime.now())\n",
    "# model fitting\n",
    "\n",
    "param_grid = dict(activ1=activ1,activ2=activ2,neurons1=neurons1,neurons2=neurons2,dropout_rate1=dropout_rate1,dropout_rate2=dropout_rate2)\n",
    "grid = NeuralNet2layer(X_train_std,Y_train,param_grid)\n",
    "#results\n",
    "print(\"Best: %f using %s\" % (grid.best_score_, grid.best_params_))\n",
    "means = grid.cv_results_['mean_test_score']\n",
    "stds = grid.cv_results_['std_test_score']\n",
    "params = grid.cv_results_['params']\n",
    "for mean, stdev, param in zip(means, stds, params):\n",
    "    print(\"%f (%f) with: %r\" % (mean, stdev, param))\n",
    "\n",
    "print('Test score:', grid.score(X_test_std,Y_test)) \n",
    "y_pred = grid.predict(X_test_std)\n",
    "# Manual confusion matrix as pandas DataFrame\n",
    "confm = pd.DataFrame({'Predicted': y_pred,\n",
    "                      'True': Y_test})\n",
    "print(confm.groupby(['True','Predicted'], sort=True).size().unstack('Predicted')) \n",
    "print(datetime.datetime.now())"
   ]
  },
  {
   "cell_type": "code",
   "execution_count": 9,
   "metadata": {},
   "outputs": [
    {
     "name": "stdout",
     "output_type": "stream",
     "text": [
      "Train: 0.990, Test: 0.967\n"
     ]
    },
    {
     "data": {
      "image/png": "[encoded data removed]",
      "text/plain": [
       "<Figure size 432x288 with 2 Axes>"
      ]
     },
     "metadata": {
      "needs_background": "light"
     },
     "output_type": "display_data"
    }
   ],
   "source": [
    "model = Sequential()\n",
    "model.add(Dense(400, input_dim=36, activation='sigmoid'))\n",
    "model.add(Dense(150, activation='sigmoid'))\n",
    "model.add(Dense(17, activation='softmax'))\n",
    "# compile model\n",
    "model.compile(loss='sparse_categorical_crossentropy', optimizer='Nadam', metrics=['accuracy'])\n",
    "# fit model\n",
    "history = model.fit(X_train_std, Y_train, validation_data=(X_test_std, Y_test), epochs=200, batch_size=20, verbose=0)\n",
    "# evaluate the model\n",
    "_, train_acc = model.evaluate(X_train_std, Y_train, verbose=0)\n",
    "_, test_acc = model.evaluate(X_test_std, Y_test, verbose=0)\n",
    "print('Train: %.3f, Test: %.3f' % (train_acc, test_acc))\n",
    "# plot loss during training\n",
    "pyplot.subplot(211)\n",
    "pyplot.title('Loss')\n",
    "pyplot.plot(history.history['loss'], label='train')\n",
    "pyplot.plot(history.history['val_loss'], label='test')\n",
    "pyplot.legend()\n",
    "# plot accuracy during training\n",
    "pyplot.subplot(212)\n",
    "pyplot.title('Accuracy')\n",
    "pyplot.plot(history.history['accuracy'], label='train')\n",
    "pyplot.plot(history.history['val_accuracy'], label='test')\n",
    "pyplot.legend()\n",
    "pyplot.show()"
   ]
  }
 ],
 "metadata": {
  "kernelspec": {
   "display_name": "Python 3",
   "language": "python",
   "name": "python3"
  },
  "language_info": {
   "codemirror_mode": {
    "name": "ipython",
    "version": 3
   },
   "file_extension": ".py",
   "mimetype": "text/x-python",
   "name": "python",
   "nbconvert_exporter": "python",
   "pygments_lexer": "ipython3",
   "version": "3.7.6"
  }
 },
 "nbformat": 4,
 "nbformat_minor": 4
}
