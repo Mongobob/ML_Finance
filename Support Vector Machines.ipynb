{
 "cells": [
  {
   "cell_type": "code",
   "execution_count": 1,
   "metadata": {},
   "outputs": [],
   "source": [
    "import pandas as pd\n",
    "import numpy as np\n",
    "import matplotlib.pyplot as plt\n",
    "import statsmodels.api as sm\n",
    "from sklearn.linear_model import LogisticRegression\n",
    "from sklearn.pipeline import Pipeline\n",
    "from sklearn.model_selection import GridSearchCV\n",
    "from sklearn.preprocessing import StandardScaler\n",
    "from sklearn.svm import SVC"
   ]
  },
  {
   "cell_type": "code",
   "execution_count": 3,
   "metadata": {},
   "outputs": [],
   "source": [
    "X_train = pd.read_csv(\"X_train.csv\")\n",
    "X_train = X_train.iloc[:, 1:]\n",
    "X_test = pd.read_csv(\"X_test.csv\")\n",
    "X_test = X_test.iloc[:, 1:]\n",
    "Y_train = pd.read_csv(\"y_train.csv\")\n",
    "Y_test = pd.read_csv(\"y_test.csv\")\n",
    "Y_train = Y_train['Rating as Factor'].astype('category') #factorize trainset\n",
    "Y_test = Y_test['Rating as Factor'].astype('category')   #factorize testset"
   ]
  },
  {
   "cell_type": "code",
   "execution_count": 19,
   "metadata": {},
   "outputs": [
    {
     "name": "stdout",
     "output_type": "stream",
     "text": [
      "Best CV accuracy: 0.83\n",
      "Test score:       0.85\n",
      "Best parameters: {'svm_poly__C': 100, 'svm_poly__degree': 3}\n"
     ]
    }
   ],
   "source": [
    "# Create pipeline object with standard scaler and SVC estimator\n",
    "pipe = Pipeline([('scaler', StandardScaler()), \n",
    "                 ('svm_poly', SVC(kernel='poly', random_state=0,max_iter=100000))])\n",
    "# Define parameter grid\n",
    "param_grid = {'svm_poly__C': [100],\n",
    "              'svm_poly__degree': [3]}\n",
    "# Run grid search\n",
    "grid = GridSearchCV(pipe, param_grid=param_grid, cv=5, n_jobs=-1)\n",
    "grid.fit(X_train, Y_train)\n",
    "\n",
    "# Print results\n",
    "print('Best CV accuracy: {:.2f}'.format(grid.best_score_))\n",
    "print('Test score:       {:.2f}'.format(grid.score(X_test, Y_test)))\n",
    "print('Best parameters: {}'.format(grid.best_params_))"
   ]
  },
  {
   "cell_type": "code",
   "execution_count": 20,
   "metadata": {},
   "outputs": [
    {
     "name": "stdout",
     "output_type": "stream",
     "text": [
      "Predicted     0      1      2     3      4      5     6      7      8     9   \\\n",
      "True                                                                           \n",
      "0          640.0   11.0    NaN   NaN   48.0    NaN   NaN   23.0    8.0   NaN   \n",
      "1           16.0  348.0   14.0   NaN    1.0    NaN   NaN    1.0    9.0   NaN   \n",
      "2            1.0   14.0  181.0   NaN    NaN    2.0   NaN    NaN    NaN   NaN   \n",
      "3            NaN    NaN    NaN  59.0    NaN    NaN   NaN    NaN    NaN   NaN   \n",
      "4           24.0    2.0    1.0   NaN  963.0   25.0   2.0    4.0   69.0   NaN   \n",
      "5            9.0    1.0    NaN   NaN   99.0  487.0   NaN    3.0   34.0   NaN   \n",
      "6            NaN    NaN    5.0   NaN    NaN    NaN  80.0    NaN   12.0   1.0   \n",
      "7           24.0    2.0    NaN   NaN   47.0    NaN   NaN  634.0   69.0   NaN   \n",
      "8           36.0    4.0    NaN   NaN   94.0   11.0   NaN   35.0  755.0   NaN   \n",
      "9            1.0    NaN    NaN   NaN    NaN    NaN   NaN    NaN    NaN  39.0   \n",
      "10           NaN    NaN    NaN   NaN    NaN    NaN   NaN    NaN    NaN   NaN   \n",
      "11           NaN    NaN    NaN   NaN    NaN    NaN   NaN    NaN    NaN   NaN   \n",
      "12           NaN    NaN    NaN   NaN    NaN    NaN   NaN    NaN    NaN   NaN   \n",
      "13           NaN    1.0    NaN   NaN    6.0    3.0   NaN    NaN    NaN   NaN   \n",
      "14           3.0    NaN    NaN   NaN   19.0   21.0   NaN    NaN    6.0   NaN   \n",
      "15           1.0    1.0    NaN   NaN   14.0    8.0   NaN    NaN    NaN   NaN   \n",
      "16           NaN    NaN    NaN   NaN    NaN    NaN   NaN    NaN    1.0   NaN   \n",
      "\n",
      "Predicted    10    11    12     13     14     15    16  \n",
      "True                                                    \n",
      "0           NaN   1.0   NaN    NaN    NaN    NaN   NaN  \n",
      "1           NaN   NaN   NaN    NaN    NaN    NaN   NaN  \n",
      "2           NaN   NaN   NaN    NaN    NaN    NaN   NaN  \n",
      "3           NaN   NaN   NaN    NaN    NaN    NaN   NaN  \n",
      "4           NaN   NaN   NaN    NaN    1.0    NaN   NaN  \n",
      "5           NaN   NaN   NaN    NaN    7.0    2.0   NaN  \n",
      "6           NaN   NaN   NaN    NaN    NaN    NaN   NaN  \n",
      "7           NaN   NaN   NaN    NaN    NaN    NaN   NaN  \n",
      "8           NaN   NaN   NaN    NaN    1.0    NaN   NaN  \n",
      "9           NaN   NaN   NaN    NaN    NaN    NaN   NaN  \n",
      "10         10.0   NaN   NaN    NaN    NaN    NaN   NaN  \n",
      "11          NaN  29.0   NaN    NaN    NaN    NaN   NaN  \n",
      "12          NaN   NaN  69.0    5.0    NaN    NaN   2.0  \n",
      "13          3.0   NaN   2.0  192.0    3.0    4.0   NaN  \n",
      "14          NaN   NaN   1.0    2.0  276.0    2.0   NaN  \n",
      "15          NaN   NaN   NaN    9.0   15.0  171.0   NaN  \n",
      "16          NaN   1.0   1.0    NaN    NaN    NaN  41.0  \n"
     ]
    }
   ],
   "source": [
    "# Predict classes\n",
    "y_pred = grid.predict(X_test)\n",
    "\n",
    "# Manual confusion matrix as pandas DataFrame\n",
    "confm = pd.DataFrame({'Predicted': y_pred,\n",
    "                      'True': Y_test})\n",
    "print(confm.groupby(['True','Predicted'], sort=True).size().unstack('Predicted')) "
   ]
  },
  {
   "cell_type": "code",
   "execution_count": null,
   "metadata": {},
   "outputs": [],
   "source": []
  }
 ],
 "metadata": {
  "kernelspec": {
   "display_name": "Python 3",
   "language": "python",
   "name": "python3"
  },
  "language_info": {
   "codemirror_mode": {
    "name": "ipython",
    "version": 3
   },
   "file_extension": ".py",
   "mimetype": "text/x-python",
   "name": "python",
   "nbconvert_exporter": "python",
   "pygments_lexer": "ipython3",
   "version": "3.7.4"
  }
 },
 "nbformat": 4,
 "nbformat_minor": 4
}
